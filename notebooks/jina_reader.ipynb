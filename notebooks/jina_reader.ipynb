{
 "cells": [
  {
   "cell_type": "code",
   "execution_count": 29,
   "id": "4c3570c8",
   "metadata": {},
   "outputs": [
    {
     "name": "stdout",
     "output_type": "stream",
     "text": [
      "✓ Created Jina Content Extractor MCP server\n"
     ]
    }
   ],
   "source": [
    "from mcp.server.fastmcp import FastMCP\n",
    "import httpx\n",
    "# import asyncio\n",
    "from urllib.parse import urljoin\n",
    "import requests\n",
    "import os\n",
    "# Create MCP server\n",
    "mcp = FastMCP(\"Jina Content Extractor\")\n",
    "\n",
    "JINA_BASE_URL = \"https://r.jina.ai/\"\n",
    "\n",
    "print(\"✓ Created Jina Content Extractor MCP server\")\n",
    "\n"
   ]
  },
  {
   "cell_type": "markdown",
   "id": "8781ba96",
   "metadata": {},
   "source": [
    "### Tool 1: Extract Content"
   ]
  },
  {
   "cell_type": "code",
   "execution_count": 18,
   "id": "8b641cc4",
   "metadata": {},
   "outputs": [
    {
     "name": "stdout",
     "output_type": "stream",
     "text": [
      "✓ Added extract_content tool\n"
     ]
    }
   ],
   "source": [
    "\n",
    "@mcp.tool()\n",
    "def extract_content(url: str) -> str:\n",
    "    \"\"\"Extract clean content from URL using Jina Reader\"\"\"\n",
    "    try:\n",
    "        jina_url = urljoin(JINA_BASE_URL, url)\n",
    "        response = requests.get(jina_url, timeout=30)\n",
    "        \n",
    "        if response.status_code == 200:\n",
    "            content = response.text\n",
    "            return f\"Content from {url}:\\n\\n{content[:1000]}...\"\n",
    "        else:\n",
    "            return f\"Extraction failed: HTTP {response.status_code}\"\n",
    "    except Exception as e:\n",
    "        return f\"Error: {str(e)}\"\n",
    "\n",
    "print(\"✓ Added extract_content tool\")\n",
    "\n"
   ]
  },
  {
   "cell_type": "markdown",
   "id": "fd09490a",
   "metadata": {},
   "source": [
    "### Tool 2: Extract with Markdown"
   ]
  },
  {
   "cell_type": "code",
   "execution_count": 19,
   "id": "e16adc32",
   "metadata": {},
   "outputs": [
    {
     "name": "stdout",
     "output_type": "stream",
     "text": [
      "✓ Added extract_markdown tool\n"
     ]
    }
   ],
   "source": [
    "\n",
    "@mcp.tool()\n",
    "def extract_markdown(url: str) -> str:\n",
    "    \"\"\"Extract content as markdown\"\"\"\n",
    "    try:\n",
    "        jina_url = f\"{JINA_BASE_URL}{url}\"\n",
    "        response = requests.get(jina_url, params={\"format\": \"markdown\"}, timeout=30)\n",
    "        \n",
    "        if response.status_code == 200:\n",
    "            return f\"Markdown from {url}:\\n\\n{response.text[:800]}...\"\n",
    "        else:\n",
    "            return f\"Failed: HTTP {response.status_code}\"\n",
    "    except Exception as e:\n",
    "        return f\"Error: {str(e)}\"\n",
    "\n",
    "print(\"✓ Added extract_markdown tool\")\n",
    "\n"
   ]
  },
  {
   "cell_type": "code",
   "execution_count": 20,
   "id": "094cc9fc",
   "metadata": {},
   "outputs": [
    {
     "name": "stdout",
     "output_type": "stream",
     "text": [
      "✓ Added formats resource\n"
     ]
    }
   ],
   "source": [
    "# Resource: Supported formats\n",
    "@mcp.resource(\"formats://supported\")\n",
    "def get_supported_formats() -> str:\n",
    "    \"\"\"List supported extraction formats\"\"\"\n",
    "    formats = [\n",
    "        \"Plain text (default)\",\n",
    "        \"Markdown\",\n",
    "        \"JSON structured\",\n",
    "        \"HTML cleaned\"\n",
    "    ]\n",
    "    \n",
    "    return \"Supported extraction formats:\\n\" + \"\\n\".join([\n",
    "        f\"• {fmt}\" for fmt in formats\n",
    "    ])\n",
    "\n",
    "print(\"✓ Added formats resource\")\n"
   ]
  },
  {
   "cell_type": "code",
   "execution_count": 22,
   "id": "556dec26",
   "metadata": {},
   "outputs": [
    {
     "name": "stdout",
     "output_type": "stream",
     "text": [
      "✓ Jina extractor ready\n",
      "\n",
      "Extracting: https://arxiv.org/abs/2301.07041\n",
      "Result: Content from https://arxiv.org/abs/2301.07041:\n",
      "\n",
      "<!DOCTYPE html>\n",
      "<html lang=\"en\">\n",
      "\n",
      "<head>  <title>[2301.07041] Verifiable Fully Homomorphic Encryption</title>\n",
      "  <meta name=\"viewport\" content=\"width=device-width, initial-scale=1\">\n",
      "  <link rel=\"apple-touch-icon\" sizes=\"180x180\" href=\"/static/browse/0.3.4/images/icons/apple-touch-icon.png\">\n",
      "  <link rel=\"icon\" type=\"image/png\" sizes=\"32x32\" href=\"/static/browse/0.3.4/images/icons/favicon-32x32.png\">\n",
      "  <link rel=\"icon\" type=\"image/png\" sizes=\"16x16\" href=\"/static/browse/0.3.4/images/icons/favicon-16x16.png\">\n",
      "  <link rel=\"manifest\" href=\"/static/browse/0.3.4/images/icons/site.webmanifest\">\n",
      "  <link rel=\"mask-icon\" href=\"/static/browse/0.3.4/images/icons/safari-pinned-tab.svg\" color=\"#5bbad5\">\n",
      "  <meta name=\"msapplication-TileColor\" content=\"#da532c\">\n",
      "  <meta name=\"theme-color\" content=\"#ffffff\">\n",
      "  <link rel=\"stylesheet\" type=\"text/css\" media=\"screen\" href=\"/static/browse/0.3.4/css/arXiv.css?v=20241206\" />\n",
      "  <link rel=\"stylesheet\" type=\"text/css...\n",
      "\n",
      "Extracting: https://github.com/microsoft/mcp-for-beginners\n",
      "Result: Content from https://github.com/microsoft/mcp-for-beginners:\n",
      "\n",
      "\n",
      "\n",
      "\n",
      "\n",
      "\n",
      "\n",
      "\n",
      "<!DOCTYPE html>\n",
      "<html\n",
      "  lang=\"en\"\n",
      "  \n",
      "  data-color-mode=\"auto\" data-light-theme=\"light\" data-dark-theme=\"dark\"\n",
      "  data-a11y-animated-images=\"system\" data-a11y-link-underlines=\"true\"\n",
      "  \n",
      "  >\n",
      "\n",
      "\n",
      "\n",
      "  <head>\n",
      "    <meta charset=\"utf-8\">\n",
      "  <link rel=\"dns-prefetch\" href=\"https://github.githubassets.com\">\n",
      "  <link rel=\"dns-prefetch\" href=\"https://avatars.githubusercontent.com\">\n",
      "  <link rel=\"dns-prefetch\" href=\"https://github-cloud.s3.amazonaws.com\">\n",
      "  <link rel=\"dns-prefetch\" href=\"https://user-images.githubusercontent.com/\">\n",
      "  <link rel=\"preconnect\" href=\"https://github.githubassets.com\" crossorigin>\n",
      "  <link rel=\"preconnect\" href=\"https://avatars.githubusercontent.com\">\n",
      "\n",
      "  \n",
      "\n",
      "  <link crossorigin=\"anonymous\" media=\"all\" rel=\"stylesheet\" href=\"https://github.githubassets.com/assets/light-c59dc71e3a4c.css\" /><link crossorigin=\"anonymous\" media=\"all\" rel=\"stylesheet\" href=\"https://github.githubassets.com/assets/light_high_contrast-4bf0c...\n"
     ]
    }
   ],
   "source": [
    "def test_jina_extractor():\n",
    "    \"\"\"Test Jina extraction\"\"\"\n",
    "    test_urls = [\n",
    "        \"https://arxiv.org/abs/2301.07041\",\n",
    "        \"https://github.com/microsoft/mcp-for-beginners\"\n",
    "    ]\n",
    "    \n",
    "    for url in test_urls:\n",
    "        print(f\"\\nExtracting: {url}\")\n",
    "        result = extract_content(url)\n",
    "        print(f\"Result: {result[:1000]}...\")\n",
    "\n",
    "print(\"✓ Jina extractor ready\")\n",
    "test_jina_extractor()"
   ]
  },
  {
   "cell_type": "code",
   "execution_count": 24,
   "id": "86bfb0cb",
   "metadata": {},
   "outputs": [
    {
     "name": "stdout",
     "output_type": "stream",
     "text": [
      "\n",
      "=== Testing Markdown Extraction ===\n",
      "\n",
      "Markdown from: https://arxiv.org/abs/2301.07041\n",
      "Result: Markdown from https://arxiv.org/abs/2301.07041:\n",
      "\n",
      "Title: Verifiable Fully Homomorphic Encryption\n",
      "\n",
      "URL Source: https://arxiv.org/abs/2301.07041?format=markdown\n",
      "\n",
      "Markdown Content:\n",
      "[2301.07041] Verifiable...\n",
      "\n",
      "Markdown from: https://github.com/microsoft/mcp-for-beginners\n",
      "Result: Markdown from https://github.com/microsoft/mcp-for-beginners:\n",
      "\n",
      "Title: GitHub - microsoft/mcp-for-beginners: This open-source curriculum is designed to teach the concepts and fundamentals of the Model ...\n"
     ]
    }
   ],
   "source": [
    "# Test markdown extraction\n",
    "def test_markdown():\n",
    "    print(\"\\n=== Testing Markdown Extraction ===\")\n",
    "    \n",
    "    test_urls = [\n",
    "        \"https://arxiv.org/abs/2301.07041\",\n",
    "        \"https://github.com/microsoft/mcp-for-beginners\"\n",
    "    ]\n",
    "    \n",
    "    for url in test_urls:\n",
    "        print(f\"\\nMarkdown from: {url}\")\n",
    "        result = extract_markdown(url)\n",
    "        print(f\"Result: {result[:200]}...\")\n",
    "\n",
    "# Run test\n",
    "test_markdown()"
   ]
  },
  {
   "cell_type": "code",
   "execution_count": 23,
   "id": "f5b5a97a",
   "metadata": {},
   "outputs": [
    {
     "name": "stdout",
     "output_type": "stream",
     "text": [
      "Title: Verifiable Fully Homomorphic Encryption\n",
      "\n",
      "URL Source: https://arxiv.org/abs/2301.07041?format=text\n",
      "\n",
      "Markdown Content:\n",
      "[2301.07041] Verifiable Fully Homomorphic Encryption\n",
      "\n",
      "===============\n",
      "\n",
      "[Skip to main content](https://arxiv.org/abs/2301.07041?format=text#content)\n",
      "\n",
      "[![Image 1: Cornell University Logo](https://arxiv.org/static/browse/0.3.4/images/icons/cu/cornell-reduced-white-SMALL.svg)](https://www.cornell.edu/)\n",
      "\n",
      "We gratefully acknowledge support from the Simons Foundation, [member institutions](https://info.arxiv.org/about/ourmembers.html), and all contributors.[Donate](https://info.arxiv.org/about/donate.html)\n",
      "\n",
      "[](https://arxiv.org/IgnoreMe)\n",
      "\n",
      "[![Image 2: arxiv logo](https://arxiv.org/static/browse/0.3.4/images/arxiv-logo-one-color-white.svg)](https://arxiv.org/)>[cs](https://arxiv.org/list/cs/recent)> arXiv:2301.07041 \n",
      "\n",
      "[Help](https://info.arxiv.org/help) | [Advanced Search](https://arxiv.org/search/advanced)\n",
      "\n",
      "Search\n",
      "\n",
      "[![Image 3: arXiv logo](https://arxiv.org/static/browse/0.\n"
     ]
    }
   ],
   "source": [
    "def extract_clean_text(url: str) -> str:\n",
    "    try:\n",
    "        # Try different Jina URL format\n",
    "        clean_url = f\"https://r.jina.ai/{url}?format=text\"\n",
    "        response = requests.get(clean_url, timeout=30)\n",
    "        return response.text[:1000] if response.status_code == 200 else \"Failed\"\n",
    "    except Exception as e:\n",
    "        return f\"Error: {e}\"\n",
    "\n",
    "# Test\n",
    "result = extract_clean_text(\"https://arxiv.org/abs/2301.07041\")\n",
    "print(result)"
   ]
  },
  {
   "cell_type": "code",
   "execution_count": 31,
   "id": "3d3d69dc",
   "metadata": {},
   "outputs": [
    {
     "name": "stdout",
     "output_type": "stream",
     "text": [
      "PDF content from 2301.07041:\n",
      "\n",
      "arXiv:2301.07041v2  [cs.CR]  11 Feb 2023Veriﬁable Fully Homomorphic Encryption\n",
      "Alexander Viand*, Christian Knabenhans*, Anwar Hithnawi\n",
      "ETH Zurich\n",
      "Abstract —Fully Homomorphic Encryption (FHE) is seeing in-\n",
      "creasing real-world deployment to protect data in use by all ow-\n",
      "ing computation over encrypted data. However, the same mal-\n",
      "leability that enables homomorphic computations also rais es\n",
      "integrity issues, which have so far been mostly overlooked.\n",
      "While FHE’s lack of integrity has obvious implications for\n",
      "correctness, it also has severe implications for conﬁdenti ality:\n",
      "a malicious server can leverage the lack of integrity to carr y out\n",
      "interactive key-recovery attacks. As a result, virtually a ll FHE\n",
      "schemes and applications assume an honest-but-curious ser ver\n",
      "who does not deviate from the protocol. In practice, however ,\n",
      "this assumption is insufﬁcient for a wide range of deploymen t\n",
      "scenarios. While there has been work that aims to address\n",
      "this gap, these have remained isolated effor...\n"
     ]
    }
   ],
   "source": [
    "@mcp.tool()\n",
    "def extract_arxiv_pdf(paper_id: str) -> str:\n",
    "    \"\"\"Extract PDF content from ArXiv paper\"\"\"\n",
    "    try:\n",
    "        import requests\n",
    "        from PyPDF2 import PdfReader\n",
    "        from io import BytesIO\n",
    "        \n",
    "        # Download PDF\n",
    "        pdf_url = f\"https://arxiv.org/pdf/{paper_id}.pdf\"\n",
    "        response = requests.get(pdf_url)\n",
    "        \n",
    "        if response.status_code == 200:\n",
    "            # Extract text from PDF\n",
    "            pdf_reader = PdfReader(BytesIO(response.content))\n",
    "            text = \"\"\n",
    "            for page in pdf_reader.pages[:3]:  # First 3 pages\n",
    "                text += page.extract_text()\n",
    "            \n",
    "            return f\"PDF content from {paper_id}:\\n\\n{text[:1000]}...\"\n",
    "        else:\n",
    "            return f\"PDF download failed: {response.status_code}\"\n",
    "            \n",
    "    except Exception as e:\n",
    "        return f\"PDF extraction error: {str(e)}\"\n",
    "\n",
    "# Test\n",
    "result = extract_arxiv_pdf(\"2301.07041\")\n",
    "print(result)"
   ]
  },
  {
   "cell_type": "code",
   "execution_count": 33,
   "id": "8a41a04b",
   "metadata": {},
   "outputs": [
    {
     "data": {
      "text/plain": [
       "True"
      ]
     },
     "execution_count": 33,
     "metadata": {},
     "output_type": "execute_result"
    }
   ],
   "source": [
    "from dotenv import load_dotenv\n",
    "load_dotenv(\"/home/siamai/deepsad/local-deep-researcher/.env\")"
   ]
  },
  {
   "cell_type": "code",
   "execution_count": 34,
   "id": "ef8b7e75",
   "metadata": {},
   "outputs": [
    {
     "data": {
      "text/html": [
       "<pre style=\"white-space:pre;overflow-x:auto;line-height:normal;font-family:Menlo,'DejaVu Sans Mono',consolas,'Courier New',monospace\"><span style=\"color: #7fbfbf; text-decoration-color: #7fbfbf\">[06/13/25 10:50:24] </span><span style=\"color: #808000; text-decoration-color: #808000\">WARNING </span> Tool already exists: extract_arxiv_pdf                              <a href=\"file:///home/siamai/miniconda3/envs/py310/lib/python3.10/site-packages/mcp/server/fastmcp/tools/tool_manager.py\" target=\"_blank\"><span style=\"color: #7f7f7f; text-decoration-color: #7f7f7f\">tool_manager.py</span></a><span style=\"color: #7f7f7f; text-decoration-color: #7f7f7f\">:</span><a href=\"file:///home/siamai/miniconda3/envs/py310/lib/python3.10/site-packages/mcp/server/fastmcp/tools/tool_manager.py#57\" target=\"_blank\"><span style=\"color: #7f7f7f; text-decoration-color: #7f7f7f\">57</span></a>\n",
       "</pre>\n"
      ],
      "text/plain": [
       "\u001b[2;36m[06/13/25 10:50:24]\u001b[0m\u001b[2;36m \u001b[0m\u001b[33mWARNING \u001b[0m Tool already exists: extract_arxiv_pdf                              \u001b]8;id=262597;file:///home/siamai/miniconda3/envs/py310/lib/python3.10/site-packages/mcp/server/fastmcp/tools/tool_manager.py\u001b\\\u001b[2mtool_manager.py\u001b[0m\u001b]8;;\u001b\\\u001b[2m:\u001b[0m\u001b]8;id=44297;file:///home/siamai/miniconda3/envs/py310/lib/python3.10/site-packages/mcp/server/fastmcp/tools/tool_manager.py#57\u001b\\\u001b[2m57\u001b[0m\u001b]8;;\u001b\\\n"
      ]
     },
     "metadata": {},
     "output_type": "display_data"
    },
    {
     "name": "stdout",
     "output_type": "stream",
     "text": [
      "=== Testing PDF Extraction ===\n",
      "ArXiv PDF: PDF content from 2301.07041:\n",
      "\n",
      "Title: \n",
      "\n",
      "URL Source: https://arxiv.org/pdf/2301.07041.pdf\n",
      "\n",
      "Markdown Content:\n",
      "> arXiv:2301.07041v2 [cs.CR] 11 Feb 2023\n",
      "\n",
      "# Verifiable Fully Homomorphic Encryption \n",
      "\n",
      "Alexander Viand *, Christian Knabenhans *, Anwar Hithnawi \n",
      "\n",
      "ETH Zurich \n",
      "\n",
      "Abstract —Fully Homomorphic Encryption (FHE) is seeing in-creasing real-world deployment to protect data in use by allow-ing computation over encrypted data. However, the same mal-leability that enables homomorphic computations also raises \n",
      "\n",
      "integrity issues, which have so far been mostly overlooked. While FHE’s lack of integrity has obvious implications for correctness, it also has severe implications for confidentiality: a malicious server can leverage the lack of integrity to carry out interactive key-recovery attacks. As a result, virtually all FHE schemes and applications assume an honest-but-curious server who does not deviate from the protocol. In practice, however, this assumption is insufficient for a wide range of ...\n"
     ]
    }
   ],
   "source": [
    "@mcp.tool()\n",
    "def extract_arxiv_pdf(paper_id: str) -> str:\n",
    "    \"\"\"Extract ArXiv PDF content using Jina\"\"\"\n",
    "    try:\n",
    "        pdf_url = f\"https://arxiv.org/pdf/{paper_id}.pdf\"\n",
    "        jina_url = f\"https://r.jina.ai/{pdf_url}\"\n",
    "        jina_api_key = os.getenv(\"JINA_API_KEY\")\n",
    "        if not jina_api_key:\n",
    "            return \"Error: JINA_API_KEY environment variable not set\"\n",
    "        headers = {\"Authorization\": f\"Bearer {jina_api_key}\"}\n",
    "        response = requests.get(jina_url, headers=headers, timeout=60)\n",
    "        \n",
    "        if response.status_code == 200:\n",
    "            content = response.text\n",
    "            return f\"PDF content from {paper_id}:\\n\\n{content[:1500]}...\"\n",
    "        else:\n",
    "            return f\"PDF extraction failed: HTTP {response.status_code}\"\n",
    "            \n",
    "    except Exception as e:\n",
    "        return f\"Error: {str(e)}\"\n",
    "\n",
    "\n",
    "# Test PDF extraction\n",
    "def test_pdf_extraction():\n",
    "    print(\"=== Testing PDF Extraction ===\")\n",
    "    \n",
    "    # Test ArXiv paper PDF\n",
    "    result = extract_arxiv_pdf(\"2301.07041\")\n",
    "    print(f\"ArXiv PDF: {result[:1000]}...\")\n",
    "    \n",
    "# Run test\n",
    "test_pdf_extraction()"
   ]
  },
  {
   "cell_type": "code",
   "execution_count": 35,
   "id": "7b9d6fb1",
   "metadata": {},
   "outputs": [
    {
     "name": "stdout",
     "output_type": "stream",
     "text": [
      "=== Testing Any PDF Extraction ===\n",
      "PDF content: PDF content:\n",
      "\n",
      "Title: \n",
      "\n",
      "URL Source: https://arxiv.org/pdf/2301.07041.pdf\n",
      "\n",
      "Markdown Content:\n",
      "> arXiv:2301.07041v2 [cs.CR] 11 Feb 2023\n",
      "\n",
      "# Verifiable Fully Homomorphic Encryption \n",
      "\n",
      "Alexander Viand *, Christian Knabenhans *, Anwar Hithnawi \n",
      "\n",
      "ETH Zurich \n",
      "\n",
      "Abstract —Fully Homomorphic Encryption (FHE) is seeing in-creasing real-world deployment to protect data in use by allow-ing computation over encrypted data. However, the same mal-leability that enables homomorphic computations also raises \n",
      "\n",
      "integrity issues, which have so far been mostly overlooked. While FHE’s lack of integrity has obvious implications for correctness, it also has severe implications for confidentiality: a malicious server can leverage the lack of integrity to carry out interactive key-recovery attacks. As a result, virtually all FHE schemes and applications assume an honest-but-curious server who does not deviate from the protocol. In practice, however, this assumption is insufficient for a wide range of deployment scena...\n"
     ]
    }
   ],
   "source": [
    "@mcp.tool()\n",
    "def extract_any_pdf(pdf_url: str) -> str:\n",
    "    \"\"\"Extract any PDF using Jina\"\"\"\n",
    "    try:\n",
    "        jina_url = f\"https://r.jina.ai/{pdf_url}\"\n",
    "        jina_api_key = os.getenv(\"JINA_API_KEY\")\n",
    "        if not jina_api_key:\n",
    "            return \"Error: JINA_API_KEY environment variable not set\"\n",
    "        headers = {\"Authorization\": f\"Bearer {jina_api_key}\"}\n",
    "        response = requests.get(jina_url, headers=headers, timeout=60)\n",
    "        \n",
    "        if response.status_code == 200:\n",
    "            return f\"PDF content:\\n\\n{response.text[:1500]}...\"\n",
    "        else:\n",
    "            return f\"Failed: HTTP {response.status_code}\"\n",
    "            \n",
    "    except Exception as e:\n",
    "        return f\"Error: {str(e)}\"\n",
    "    \n",
    "# Test any PDF extraction\n",
    "def test_any_pdf_extraction():\n",
    "    print(\"=== Testing Any PDF Extraction ===\")\n",
    "    \n",
    "    # Test any PDF URL\n",
    "    pdf_url = \"https://arxiv.org/pdf/2301.07041.pdf\"\n",
    "    result = extract_any_pdf(pdf_url)\n",
    "    print(f\"PDF content: {result[:1000]}...\")\n",
    "# Run test\n",
    "test_any_pdf_extraction()"
   ]
  },
  {
   "cell_type": "code",
   "execution_count": null,
   "id": "43b4c98f",
   "metadata": {},
   "outputs": [],
   "source": []
  }
 ],
 "metadata": {
  "kernelspec": {
   "display_name": "py310",
   "language": "python",
   "name": "python3"
  },
  "language_info": {
   "codemirror_mode": {
    "name": "ipython",
    "version": 3
   },
   "file_extension": ".py",
   "mimetype": "text/x-python",
   "name": "python",
   "nbconvert_exporter": "python",
   "pygments_lexer": "ipython3",
   "version": "3.10.12"
  }
 },
 "nbformat": 4,
 "nbformat_minor": 5
}
