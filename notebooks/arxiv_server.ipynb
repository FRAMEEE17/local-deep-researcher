{
 "cells": [
  {
   "cell_type": "code",
   "execution_count": 4,
   "id": "b7c59109",
   "metadata": {},
   "outputs": [
    {
     "name": "stdout",
     "output_type": "stream",
     "text": [
      "Fri Jun 13 04:49:15 2025       \n",
      "+-----------------------------------------------------------------------------------------+\n",
      "| NVIDIA-SMI 560.35.05              Driver Version: 560.35.05      CUDA Version: 12.6     |\n",
      "|-----------------------------------------+------------------------+----------------------+\n",
      "| GPU  Name                 Persistence-M | Bus-Id          Disp.A | Volatile Uncorr. ECC |\n",
      "| Fan  Temp   Perf          Pwr:Usage/Cap |           Memory-Usage | GPU-Util  Compute M. |\n",
      "|                                         |                        |               MIG M. |\n",
      "|=========================================+========================+======================|\n",
      "|   0  NVIDIA H100 80GB HBM3          Off |   00000000:06:10.0 Off |                    0 |\n",
      "| N/A   38C    P0            274W /  700W |   77498MiB /  81559MiB |     87%      Default |\n",
      "|                                         |                        |             Disabled |\n",
      "+-----------------------------------------+------------------------+----------------------+\n",
      "|   1  NVIDIA H100 80GB HBM3          Off |   00000000:06:11.0 Off |                    0 |\n",
      "| N/A   40C    P0            279W /  700W |   77470MiB /  81559MiB |     88%      Default |\n",
      "|                                         |                        |             Disabled |\n",
      "+-----------------------------------------+------------------------+----------------------+\n",
      "|   2  NVIDIA H100 80GB HBM3          Off |   00000000:06:1B.0 Off |                    0 |\n",
      "| N/A   42C    P0            277W /  700W |   77470MiB /  81559MiB |     86%      Default |\n",
      "|                                         |                        |             Disabled |\n",
      "+-----------------------------------------+------------------------+----------------------+\n",
      "|   3  NVIDIA H100 80GB HBM3          Off |   00000000:06:1C.0 Off |                    0 |\n",
      "| N/A   36C    P0            275W /  700W |   77470MiB /  81559MiB |     87%      Default |\n",
      "|                                         |                        |             Disabled |\n",
      "+-----------------------------------------+------------------------+----------------------+\n",
      "|   4  NVIDIA H100 80GB HBM3          Off |   00000000:08:11.0 Off |                    0 |\n",
      "| N/A   36C    P0            269W /  700W |   77470MiB /  81559MiB |     86%      Default |\n",
      "|                                         |                        |             Disabled |\n",
      "+-----------------------------------------+------------------------+----------------------+\n",
      "|   5  NVIDIA H100 80GB HBM3          Off |   00000000:08:12.0 Off |                    0 |\n",
      "| N/A   41C    P0            282W /  700W |   77470MiB /  81559MiB |     86%      Default |\n",
      "|                                         |                        |             Disabled |\n",
      "+-----------------------------------------+------------------------+----------------------+\n",
      "|   6  NVIDIA H100 80GB HBM3          Off |   00000000:08:13.0 Off |                    0 |\n",
      "| N/A   40C    P0            274W /  700W |   77470MiB /  81559MiB |     88%      Default |\n",
      "|                                         |                        |             Disabled |\n",
      "+-----------------------------------------+------------------------+----------------------+\n",
      "|   7  NVIDIA H100 80GB HBM3          Off |   00000000:08:14.0 Off |                    0 |\n",
      "| N/A   40C    P0            285W /  700W |   77486MiB /  81559MiB |     86%      Default |\n",
      "|                                         |                        |             Disabled |\n",
      "+-----------------------------------------+------------------------+----------------------+\n",
      "                                                                                         \n",
      "+-----------------------------------------------------------------------------------------+\n",
      "| Processes:                                                                              |\n",
      "|  GPU   GI   CI        PID   Type   Process name                              GPU Memory |\n",
      "|        ID   ID                                                               Usage      |\n",
      "|=========================================================================================|\n",
      "|    0   N/A  N/A   2035637      C   ...i/miniconda3/envs/py311/bin/python3      77488MiB |\n",
      "|    1   N/A  N/A   2035638      C   ...i/miniconda3/envs/py311/bin/python3      77460MiB |\n",
      "|    2   N/A  N/A   2035639      C   ...i/miniconda3/envs/py311/bin/python3      77460MiB |\n",
      "|    3   N/A  N/A   2035640      C   ...i/miniconda3/envs/py311/bin/python3      77460MiB |\n",
      "|    4   N/A  N/A   2035641      C   ...i/miniconda3/envs/py311/bin/python3      77460MiB |\n",
      "|    5   N/A  N/A   2035642      C   ...i/miniconda3/envs/py311/bin/python3      77460MiB |\n",
      "|    6   N/A  N/A   2035643      C   ...i/miniconda3/envs/py311/bin/python3      77460MiB |\n",
      "|    7   N/A  N/A   2035644      C   ...i/miniconda3/envs/py311/bin/python3      77476MiB |\n",
      "+-----------------------------------------------------------------------------------------+\n"
     ]
    }
   ],
   "source": [
    "!nvidia-smi"
   ]
  },
  {
   "cell_type": "code",
   "execution_count": 1,
   "id": "3dcf4eb1",
   "metadata": {},
   "outputs": [],
   "source": [
    "from mcp.server.fastmcp import FastMCP\n",
    "import arxiv\n",
    "import asyncio\n",
    "from pathlib import Path\n",
    "import os"
   ]
  },
  {
   "cell_type": "code",
   "execution_count": 5,
   "id": "19ef788c",
   "metadata": {},
   "outputs": [
    {
     "name": "stdout",
     "output_type": "stream",
     "text": [
      "/home/siamai\n"
     ]
    }
   ],
   "source": [
    "print(Path.home())"
   ]
  },
  {
   "cell_type": "code",
   "execution_count": 2,
   "id": "e43b0d19",
   "metadata": {},
   "outputs": [
    {
     "name": "stdout",
     "output_type": "stream",
     "text": [
      "✓ Created ArXiv MCP server\n",
      "✓ Storage path: /home/siamai/deepsad/local-deep-researcher/notebooks/.arxiv-mcp/papers\n"
     ]
    }
   ],
   "source": [
    "mcp = FastMCP(\"ArXiv Research Server\")\n",
    "# Storage setup\n",
    "STORAGE_PATH = Path.home() / \"deepsad\" / \"local-deep-researcher\" /\"notebooks\" /\".arxiv-mcp\" / \"papers\"\n",
    "STORAGE_PATH.mkdir(parents=True, exist_ok=True)\n",
    "print(f\"✓ Created ArXiv MCP server\")\n",
    "print(f\"✓ Storage path: {STORAGE_PATH}\")"
   ]
  },
  {
   "cell_type": "markdown",
   "id": "8ac60e63",
   "metadata": {},
   "source": [
    "### Tool 1: Search Paper"
   ]
  },
  {
   "cell_type": "code",
   "execution_count": 3,
   "id": "6f90d74d",
   "metadata": {},
   "outputs": [
    {
     "data": {
      "text/html": [
       "<pre style=\"white-space:pre;overflow-x:auto;line-height:normal;font-family:Menlo,'DejaVu Sans Mono',consolas,'Courier New',monospace\"><span style=\"color: #7fbfbf; text-decoration-color: #7fbfbf\">[06/13/25 09:33:39] </span><span style=\"color: #000080; text-decoration-color: #000080\">INFO    </span> Requesting page <span style=\"font-weight: bold\">(</span>first: <span style=\"color: #00ff00; text-decoration-color: #00ff00; font-style: italic\">True</span>, try: <span style=\"color: #008080; text-decoration-color: #008080; font-weight: bold\">0</span><span style=\"font-weight: bold\">)</span>:                                 <a href=\"file:///home/siamai/miniconda3/envs/py310/lib/python3.10/site-packages/arxiv/__init__.py\" target=\"_blank\"><span style=\"color: #7f7f7f; text-decoration-color: #7f7f7f\">__init__.py</span></a><span style=\"color: #7f7f7f; text-decoration-color: #7f7f7f\">:</span><a href=\"file:///home/siamai/miniconda3/envs/py310/lib/python3.10/site-packages/arxiv/__init__.py#680\" target=\"_blank\"><span style=\"color: #7f7f7f; text-decoration-color: #7f7f7f\">680</span></a>\n",
       "<span style=\"color: #7fbfbf; text-decoration-color: #7fbfbf\">                    </span>         <span style=\"color: #0000ff; text-decoration-color: #0000ff; text-decoration: underline\">https://export.arxiv.org/api/query?search_query=reasoning+model+for+ag</span> <span style=\"color: #7f7f7f; text-decoration-color: #7f7f7f\">               </span>\n",
       "<span style=\"color: #7fbfbf; text-decoration-color: #7fbfbf\">                    </span>         <span style=\"color: #0000ff; text-decoration-color: #0000ff; text-decoration: underline\">entic+system&amp;id_list=&amp;sortBy=relevance&amp;sortOrder=descending&amp;start=0&amp;ma</span> <span style=\"color: #7f7f7f; text-decoration-color: #7f7f7f\">               </span>\n",
       "<span style=\"color: #7fbfbf; text-decoration-color: #7fbfbf\">                    </span>         <span style=\"color: #0000ff; text-decoration-color: #0000ff; text-decoration: underline\">x_results=100</span>                                                          <span style=\"color: #7f7f7f; text-decoration-color: #7f7f7f\">               </span>\n",
       "</pre>\n"
      ],
      "text/plain": [
       "\u001b[2;36m[06/13/25 09:33:39]\u001b[0m\u001b[2;36m \u001b[0m\u001b[34mINFO    \u001b[0m Requesting page \u001b[1m(\u001b[0mfirst: \u001b[3;92mTrue\u001b[0m, try: \u001b[1;36m0\u001b[0m\u001b[1m)\u001b[0m:                                 \u001b]8;id=545527;file:///home/siamai/miniconda3/envs/py310/lib/python3.10/site-packages/arxiv/__init__.py\u001b\\\u001b[2m__init__.py\u001b[0m\u001b]8;;\u001b\\\u001b[2m:\u001b[0m\u001b]8;id=617137;file:///home/siamai/miniconda3/envs/py310/lib/python3.10/site-packages/arxiv/__init__.py#680\u001b\\\u001b[2m680\u001b[0m\u001b]8;;\u001b\\\n",
       "\u001b[2;36m                    \u001b[0m         \u001b[4;94mhttps://export.arxiv.org/api/query?\u001b[0m\u001b[4;94msearch_query\u001b[0m\u001b[4;94m=\u001b[0m\u001b[4;94mreasoning\u001b[0m\u001b[4;94m+model+for+ag\u001b[0m \u001b[2m               \u001b[0m\n",
       "\u001b[2;36m                    \u001b[0m         \u001b[4;94mentic+system&\u001b[0m\u001b[4;94mid_list\u001b[0m\u001b[4;94m=&\u001b[0m\u001b[4;94msortBy\u001b[0m\u001b[4;94m=\u001b[0m\u001b[4;94mrelevance\u001b[0m\u001b[4;94m&\u001b[0m\u001b[4;94msortOrder\u001b[0m\u001b[4;94m=\u001b[0m\u001b[4;94mdescending\u001b[0m\u001b[4;94m&\u001b[0m\u001b[4;94mstart\u001b[0m\u001b[4;94m=\u001b[0m\u001b[4;94m0\u001b[0m\u001b[4;94m&\u001b[0m\u001b[4;94mma\u001b[0m \u001b[2m               \u001b[0m\n",
       "\u001b[2;36m                    \u001b[0m         \u001b[4;94mx_results\u001b[0m\u001b[4;94m=\u001b[0m\u001b[4;94m100\u001b[0m                                                          \u001b[2m               \u001b[0m\n"
      ]
     },
     "metadata": {},
     "output_type": "display_data"
    },
    {
     "data": {
      "text/html": [
       "<pre style=\"white-space:pre;overflow-x:auto;line-height:normal;font-family:Menlo,'DejaVu Sans Mono',consolas,'Courier New',monospace\"><span style=\"color: #7fbfbf; text-decoration-color: #7fbfbf\">[06/13/25 09:33:43] </span><span style=\"color: #000080; text-decoration-color: #000080\">INFO    </span> Got first page: <span style=\"color: #008080; text-decoration-color: #008080; font-weight: bold\">100</span> of <span style=\"color: #008080; text-decoration-color: #008080; font-weight: bold\">2442103</span> total results                           <a href=\"file:///home/siamai/miniconda3/envs/py310/lib/python3.10/site-packages/arxiv/__init__.py\" target=\"_blank\"><span style=\"color: #7f7f7f; text-decoration-color: #7f7f7f\">__init__.py</span></a><span style=\"color: #7f7f7f; text-decoration-color: #7f7f7f\">:</span><a href=\"file:///home/siamai/miniconda3/envs/py310/lib/python3.10/site-packages/arxiv/__init__.py#606\" target=\"_blank\"><span style=\"color: #7f7f7f; text-decoration-color: #7f7f7f\">606</span></a>\n",
       "</pre>\n"
      ],
      "text/plain": [
       "\u001b[2;36m[06/13/25 09:33:43]\u001b[0m\u001b[2;36m \u001b[0m\u001b[34mINFO    \u001b[0m Got first page: \u001b[1;36m100\u001b[0m of \u001b[1;36m2442103\u001b[0m total results                           \u001b]8;id=718847;file:///home/siamai/miniconda3/envs/py310/lib/python3.10/site-packages/arxiv/__init__.py\u001b\\\u001b[2m__init__.py\u001b[0m\u001b]8;;\u001b\\\u001b[2m:\u001b[0m\u001b]8;id=602671;file:///home/siamai/miniconda3/envs/py310/lib/python3.10/site-packages/arxiv/__init__.py#606\u001b\\\u001b[2m606\u001b[0m\u001b]8;;\u001b\\\n"
      ]
     },
     "metadata": {},
     "output_type": "display_data"
    },
    {
     "name": "stdout",
     "output_type": "stream",
     "text": [
      "Found 5 papers:\n",
      "\n",
      "1. **Agentic Reasoning: Reasoning LLMs with Tools for the Deep Research**\n",
      "   ID: 2502.04644v1\n",
      "   Authors: Junde Wu, Jiayuan Zhu, Yuyuan Liu\n",
      "   Published: 2025-02-07\n",
      "   Summary: We introduce Agentic Reasoning, a framework that enhances large language\n",
      "model (LLM) reasoning by integrating external tool-using agents. Unlike\n",
      "conventional LLM-based reasoning approaches, which rely...\n",
      "\n",
      "2. **Implementing Agents in JavaScript**\n",
      "   ID: 2505.18228v1\n",
      "   Authors: Timotheus Kampik\n",
      "   Published: 2025-05-23\n",
      "   Summary: This chapter gives an introduction to agent-oriented programming in\n",
      "JavaScript. It provides an example-based walk-through of how to implement\n",
      "abstractions for reasoning loop agents in vanilla JavaScri...\n",
      "\n",
      "3. **Reasoning RAG via System 1 or System 2: A Survey on Reasoning Agentic Retrieval-Augmented Generation for Industry Challenges**\n",
      "   ID: 2506.10408v1\n",
      "   Authors: Jintao Liang, Gang Su, Huifeng Lin\n",
      "   Published: 2025-06-12\n",
      "   Summary: Retrieval-Augmented Generation (RAG) has emerged as a powerful framework to\n",
      "overcome the knowledge limitations of Large Language Models (LLMs) by\n",
      "integrating external retrieval with language generatio...\n",
      "\n",
      "4. **Improving LLM Reasoning with Multi-Agent Tree-of-Thought Validator Agent**\n",
      "   ID: 2409.11527v2\n",
      "   Authors: Fatemeh Haji, Mazal Bethany, Maryam Tabar\n",
      "   Published: 2024-09-17\n",
      "   Summary: Multi-agent strategies have emerged as a promising approach to enhance the\n",
      "reasoning abilities of Large Language Models (LLMs) by assigning specialized\n",
      "roles in the problem-solving process. Concurrent...\n",
      "\n",
      "5. **Understanding Individual Agent Importance in Multi-Agent System via Counterfactual Reasoning**\n",
      "   ID: 2412.15619v2\n",
      "   Authors: Jianming Chen, Yawen Wang, Junjie Wang\n",
      "   Published: 2024-12-20\n",
      "   Summary: Explaining multi-agent systems (MAS) is urgent as these systems become\n",
      "increasingly prevalent in various applications. Previous work has proveided\n",
      "explanations for the actions or states of agents, yet...\n",
      "\n",
      "\n",
      "✓ Added search_papers tool\n"
     ]
    }
   ],
   "source": [
    "@mcp.tool()\n",
    "def search_papers(query: str, max_results: int = 10) -> str:\n",
    "    try:\n",
    "        search = arxiv.Search(\n",
    "            query=query,\n",
    "            max_results=max_results,\n",
    "            sort_by=arxiv.SortCriterion.Relevance\n",
    "        )\n",
    "        \n",
    "        papers = []\n",
    "        for result in arxiv.Client().results(search):\n",
    "            papers.append({\n",
    "                \"id\": result.entry_id.split(\"/\")[-1],\n",
    "                \"title\": result.title,\n",
    "                \"authors\": [author.name for author in result.authors],\n",
    "                \"summary\": result.summary[:200] + \"...\",\n",
    "                \"published\": result.published.isoformat(),\n",
    "                \"categories\": result.categories\n",
    "            })\n",
    "        \n",
    "        # Return actual paper details, not just status message\n",
    "        if not papers:\n",
    "            return \"No papers found for query: \" + query\n",
    "            \n",
    "        result_text = f\"Found {len(papers)} papers:\\n\\n\"\n",
    "        for i, p in enumerate(papers, 1):\n",
    "            result_text += f\"{i}. **{p['title']}**\\n\"\n",
    "            result_text += f\"   ID: {p['id']}\\n\"\n",
    "            result_text += f\"   Authors: {', '.join(p['authors'][:3])}\\n\"\n",
    "            result_text += f\"   Published: {p['published'][:10]}\\n\"\n",
    "            result_text += f\"   Summary: {p['summary']}\\n\\n\"\n",
    "        \n",
    "        return result_text\n",
    "        \n",
    "    except Exception as e:\n",
    "        return f\"Search error: {str(e)}\"\n",
    "\n",
    "# Test with the fixed function\n",
    "test_result = search_papers(\"reasoning model for agentic system\", 5)\n",
    "print(test_result)\n",
    "    \n",
    "print(\"✓ Added search_papers tool\")"
   ]
  },
  {
   "cell_type": "markdown",
   "id": "d453a2be",
   "metadata": {},
   "source": [
    "### Tool 2: Download Paper"
   ]
  },
  {
   "cell_type": "code",
   "execution_count": 4,
   "id": "7fcb9b64",
   "metadata": {},
   "outputs": [
    {
     "name": "stdout",
     "output_type": "stream",
     "text": [
      "✓ Added download_paper tool\n"
     ]
    }
   ],
   "source": [
    "@mcp.tool()\n",
    "def download_paper(paper_id: str) -> str:\n",
    "    try:\n",
    "        search = arxiv.Search(id_list=[paper_id])\n",
    "        paper = next(arxiv.Client().results(search))\n",
    "        \n",
    "        # Download PDF\n",
    "        pdf_path = STORAGE_PATH / f\"{paper_id}.pdf\"\n",
    "        paper.download_pdf(dirpath=str(STORAGE_PATH), filename=f\"{paper_id}.pdf\")\n",
    "        \n",
    "        return f\"Downloaded: {paper.title}\\nSaved to: {pdf_path}\"\n",
    "    except Exception as e:\n",
    "        return f\"Download error: {str(e)}\"\n",
    "\n",
    "print(\"✓ Added download_paper tool\")\n"
   ]
  },
  {
   "cell_type": "code",
   "execution_count": 5,
   "id": "6ee25299",
   "metadata": {},
   "outputs": [
    {
     "name": "stdout",
     "output_type": "stream",
     "text": [
      "=== Testing download_paper ===\n",
      "Testing download with paper ID: 1706.03762\n"
     ]
    },
    {
     "data": {
      "text/html": [
       "<pre style=\"white-space:pre;overflow-x:auto;line-height:normal;font-family:Menlo,'DejaVu Sans Mono',consolas,'Courier New',monospace\"><span style=\"color: #7fbfbf; text-decoration-color: #7fbfbf\">[06/13/25 09:34:02] </span><span style=\"color: #000080; text-decoration-color: #000080\">INFO    </span> Requesting page <span style=\"font-weight: bold\">(</span>first: <span style=\"color: #00ff00; text-decoration-color: #00ff00; font-style: italic\">True</span>, try: <span style=\"color: #008080; text-decoration-color: #008080; font-weight: bold\">0</span><span style=\"font-weight: bold\">)</span>:                                 <a href=\"file:///home/siamai/miniconda3/envs/py310/lib/python3.10/site-packages/arxiv/__init__.py\" target=\"_blank\"><span style=\"color: #7f7f7f; text-decoration-color: #7f7f7f\">__init__.py</span></a><span style=\"color: #7f7f7f; text-decoration-color: #7f7f7f\">:</span><a href=\"file:///home/siamai/miniconda3/envs/py310/lib/python3.10/site-packages/arxiv/__init__.py#680\" target=\"_blank\"><span style=\"color: #7f7f7f; text-decoration-color: #7f7f7f\">680</span></a>\n",
       "<span style=\"color: #7fbfbf; text-decoration-color: #7fbfbf\">                    </span>         <span style=\"color: #0000ff; text-decoration-color: #0000ff; text-decoration: underline\">https://export.arxiv.org/api/query?search_query=&amp;id_list=1706.03762&amp;so</span> <span style=\"color: #7f7f7f; text-decoration-color: #7f7f7f\">               </span>\n",
       "<span style=\"color: #7fbfbf; text-decoration-color: #7fbfbf\">                    </span>         <span style=\"color: #0000ff; text-decoration-color: #0000ff; text-decoration: underline\">rtBy=relevance&amp;sortOrder=descending&amp;start=0&amp;max_results=100</span>            <span style=\"color: #7f7f7f; text-decoration-color: #7f7f7f\">               </span>\n",
       "</pre>\n"
      ],
      "text/plain": [
       "\u001b[2;36m[06/13/25 09:34:02]\u001b[0m\u001b[2;36m \u001b[0m\u001b[34mINFO    \u001b[0m Requesting page \u001b[1m(\u001b[0mfirst: \u001b[3;92mTrue\u001b[0m, try: \u001b[1;36m0\u001b[0m\u001b[1m)\u001b[0m:                                 \u001b]8;id=656188;file:///home/siamai/miniconda3/envs/py310/lib/python3.10/site-packages/arxiv/__init__.py\u001b\\\u001b[2m__init__.py\u001b[0m\u001b]8;;\u001b\\\u001b[2m:\u001b[0m\u001b]8;id=791483;file:///home/siamai/miniconda3/envs/py310/lib/python3.10/site-packages/arxiv/__init__.py#680\u001b\\\u001b[2m680\u001b[0m\u001b]8;;\u001b\\\n",
       "\u001b[2;36m                    \u001b[0m         \u001b[4;94mhttps://export.arxiv.org/api/query?\u001b[0m\u001b[4;94msearch_query\u001b[0m\u001b[4;94m=&\u001b[0m\u001b[4;94mid_list\u001b[0m\u001b[4;94m=\u001b[0m\u001b[4;94m1706\u001b[0m\u001b[4;94m.03762&\u001b[0m\u001b[4;94mso\u001b[0m \u001b[2m               \u001b[0m\n",
       "\u001b[2;36m                    \u001b[0m         \u001b[4;94mrtBy\u001b[0m\u001b[4;94m=\u001b[0m\u001b[4;94mrelevance\u001b[0m\u001b[4;94m&\u001b[0m\u001b[4;94msortOrder\u001b[0m\u001b[4;94m=\u001b[0m\u001b[4;94mdescending\u001b[0m\u001b[4;94m&\u001b[0m\u001b[4;94mstart\u001b[0m\u001b[4;94m=\u001b[0m\u001b[4;94m0\u001b[0m\u001b[4;94m&\u001b[0m\u001b[4;94mmax_results\u001b[0m\u001b[4;94m=\u001b[0m\u001b[4;94m100\u001b[0m            \u001b[2m               \u001b[0m\n"
      ]
     },
     "metadata": {},
     "output_type": "display_data"
    },
    {
     "data": {
      "text/html": [
       "<pre style=\"white-space:pre;overflow-x:auto;line-height:normal;font-family:Menlo,'DejaVu Sans Mono',consolas,'Courier New',monospace\"><span style=\"color: #7fbfbf; text-decoration-color: #7fbfbf\">[06/13/25 09:34:03] </span><span style=\"color: #000080; text-decoration-color: #000080\">INFO    </span> Got first page: <span style=\"color: #008080; text-decoration-color: #008080; font-weight: bold\">1</span> of <span style=\"color: #008080; text-decoration-color: #008080; font-weight: bold\">1</span> total results                                   <a href=\"file:///home/siamai/miniconda3/envs/py310/lib/python3.10/site-packages/arxiv/__init__.py\" target=\"_blank\"><span style=\"color: #7f7f7f; text-decoration-color: #7f7f7f\">__init__.py</span></a><span style=\"color: #7f7f7f; text-decoration-color: #7f7f7f\">:</span><a href=\"file:///home/siamai/miniconda3/envs/py310/lib/python3.10/site-packages/arxiv/__init__.py#606\" target=\"_blank\"><span style=\"color: #7f7f7f; text-decoration-color: #7f7f7f\">606</span></a>\n",
       "</pre>\n"
      ],
      "text/plain": [
       "\u001b[2;36m[06/13/25 09:34:03]\u001b[0m\u001b[2;36m \u001b[0m\u001b[34mINFO    \u001b[0m Got first page: \u001b[1;36m1\u001b[0m of \u001b[1;36m1\u001b[0m total results                                   \u001b]8;id=370171;file:///home/siamai/miniconda3/envs/py310/lib/python3.10/site-packages/arxiv/__init__.py\u001b\\\u001b[2m__init__.py\u001b[0m\u001b]8;;\u001b\\\u001b[2m:\u001b[0m\u001b]8;id=274987;file:///home/siamai/miniconda3/envs/py310/lib/python3.10/site-packages/arxiv/__init__.py#606\u001b\\\u001b[2m606\u001b[0m\u001b]8;;\u001b\\\n"
      ]
     },
     "metadata": {},
     "output_type": "display_data"
    },
    {
     "name": "stdout",
     "output_type": "stream",
     "text": [
      "Download result: Downloaded: Attention Is All You Need\n",
      "Saved to: /home/siamai/deepsad/local-deep-researcher/notebooks/.arxiv-mcp/papers/1706.03762.pdf\n",
      "✓ File downloaded successfully: 2.1 MB\n"
     ]
    }
   ],
   "source": [
    "print(\"=== Testing download_paper ===\")\n",
    "\n",
    "# Use a famous paper ID (Attention is All You Need)\n",
    "test_paper_id = \"1706.03762\"\n",
    "print(f\"Testing download with paper ID: {test_paper_id}\")\n",
    "\n",
    "result = download_paper(test_paper_id)\n",
    "print(f\"Download result: {result}\")\n",
    "\n",
    "# Check if file was created\n",
    "import os\n",
    "pdf_file = STORAGE_PATH / f\"{test_paper_id}.pdf\"\n",
    "if pdf_file.exists():\n",
    "    file_size = os.path.getsize(pdf_file) / (1024 * 1024)  # Size in MB\n",
    "    print(f\"✓ File downloaded successfully: {file_size:.1f} MB\")\n",
    "else:\n",
    "    print(\"✗ File not found\")"
   ]
  },
  {
   "cell_type": "code",
   "execution_count": 7,
   "id": "1bc0dcde",
   "metadata": {},
   "outputs": [
    {
     "name": "stdout",
     "output_type": "stream",
     "text": [
      "\n",
      "=== Method 3: Test error handling ===\n"
     ]
    },
    {
     "data": {
      "text/html": [
       "<pre style=\"white-space:pre;overflow-x:auto;line-height:normal;font-family:Menlo,'DejaVu Sans Mono',consolas,'Courier New',monospace\"><span style=\"color: #7fbfbf; text-decoration-color: #7fbfbf\">[06/13/25 09:37:29] </span><span style=\"color: #000080; text-decoration-color: #000080\">INFO    </span> Requesting page <span style=\"font-weight: bold\">(</span>first: <span style=\"color: #00ff00; text-decoration-color: #00ff00; font-style: italic\">True</span>, try: <span style=\"color: #008080; text-decoration-color: #008080; font-weight: bold\">0</span><span style=\"font-weight: bold\">)</span>:                                 <a href=\"file:///home/siamai/miniconda3/envs/py310/lib/python3.10/site-packages/arxiv/__init__.py\" target=\"_blank\"><span style=\"color: #7f7f7f; text-decoration-color: #7f7f7f\">__init__.py</span></a><span style=\"color: #7f7f7f; text-decoration-color: #7f7f7f\">:</span><a href=\"file:///home/siamai/miniconda3/envs/py310/lib/python3.10/site-packages/arxiv/__init__.py#680\" target=\"_blank\"><span style=\"color: #7f7f7f; text-decoration-color: #7f7f7f\">680</span></a>\n",
       "<span style=\"color: #7fbfbf; text-decoration-color: #7fbfbf\">                    </span>         <span style=\"color: #0000ff; text-decoration-color: #0000ff; text-decoration: underline\">https://export.arxiv.org/api/query?search_query=&amp;id_list=invalid-id-12</span> <span style=\"color: #7f7f7f; text-decoration-color: #7f7f7f\">               </span>\n",
       "<span style=\"color: #7fbfbf; text-decoration-color: #7fbfbf\">                    </span>         <span style=\"color: #0000ff; text-decoration-color: #0000ff; text-decoration: underline\">3&amp;sortBy=relevance&amp;sortOrder=descending&amp;start=0&amp;max_results=100</span>        <span style=\"color: #7f7f7f; text-decoration-color: #7f7f7f\">               </span>\n",
       "</pre>\n"
      ],
      "text/plain": [
       "\u001b[2;36m[06/13/25 09:37:29]\u001b[0m\u001b[2;36m \u001b[0m\u001b[34mINFO    \u001b[0m Requesting page \u001b[1m(\u001b[0mfirst: \u001b[3;92mTrue\u001b[0m, try: \u001b[1;36m0\u001b[0m\u001b[1m)\u001b[0m:                                 \u001b]8;id=639064;file:///home/siamai/miniconda3/envs/py310/lib/python3.10/site-packages/arxiv/__init__.py\u001b\\\u001b[2m__init__.py\u001b[0m\u001b]8;;\u001b\\\u001b[2m:\u001b[0m\u001b]8;id=118296;file:///home/siamai/miniconda3/envs/py310/lib/python3.10/site-packages/arxiv/__init__.py#680\u001b\\\u001b[2m680\u001b[0m\u001b]8;;\u001b\\\n",
       "\u001b[2;36m                    \u001b[0m         \u001b[4;94mhttps://export.arxiv.org/api/query?\u001b[0m\u001b[4;94msearch_query\u001b[0m\u001b[4;94m=&\u001b[0m\u001b[4;94mid_list\u001b[0m\u001b[4;94m=\u001b[0m\u001b[4;94minvalid\u001b[0m\u001b[4;94m-id-12\u001b[0m \u001b[2m               \u001b[0m\n",
       "\u001b[2;36m                    \u001b[0m         \u001b[4;94m3&\u001b[0m\u001b[4;94msortBy\u001b[0m\u001b[4;94m=\u001b[0m\u001b[4;94mrelevance\u001b[0m\u001b[4;94m&\u001b[0m\u001b[4;94msortOrder\u001b[0m\u001b[4;94m=\u001b[0m\u001b[4;94mdescending\u001b[0m\u001b[4;94m&\u001b[0m\u001b[4;94mstart\u001b[0m\u001b[4;94m=\u001b[0m\u001b[4;94m0\u001b[0m\u001b[4;94m&\u001b[0m\u001b[4;94mmax_results\u001b[0m\u001b[4;94m=\u001b[0m\u001b[4;94m100\u001b[0m        \u001b[2m               \u001b[0m\n"
      ]
     },
     "metadata": {},
     "output_type": "display_data"
    },
    {
     "data": {
      "text/html": [
       "<pre style=\"white-space:pre;overflow-x:auto;line-height:normal;font-family:Menlo,'DejaVu Sans Mono',consolas,'Courier New',monospace\"><span style=\"color: #7fbfbf; text-decoration-color: #7fbfbf\">[06/13/25 09:37:30] </span><span style=\"color: #000080; text-decoration-color: #000080\">INFO    </span> Sleeping: <span style=\"color: #008080; text-decoration-color: #008080; font-weight: bold\">2.999958</span> seconds                                             <a href=\"file:///home/siamai/miniconda3/envs/py310/lib/python3.10/site-packages/arxiv/__init__.py\" target=\"_blank\"><span style=\"color: #7f7f7f; text-decoration-color: #7f7f7f\">__init__.py</span></a><span style=\"color: #7f7f7f; text-decoration-color: #7f7f7f\">:</span><a href=\"file:///home/siamai/miniconda3/envs/py310/lib/python3.10/site-packages/arxiv/__init__.py#677\" target=\"_blank\"><span style=\"color: #7f7f7f; text-decoration-color: #7f7f7f\">677</span></a>\n",
       "</pre>\n"
      ],
      "text/plain": [
       "\u001b[2;36m[06/13/25 09:37:30]\u001b[0m\u001b[2;36m \u001b[0m\u001b[34mINFO    \u001b[0m Sleeping: \u001b[1;36m2.999958\u001b[0m seconds                                             \u001b]8;id=403450;file:///home/siamai/miniconda3/envs/py310/lib/python3.10/site-packages/arxiv/__init__.py\u001b\\\u001b[2m__init__.py\u001b[0m\u001b]8;;\u001b\\\u001b[2m:\u001b[0m\u001b]8;id=39465;file:///home/siamai/miniconda3/envs/py310/lib/python3.10/site-packages/arxiv/__init__.py#677\u001b\\\u001b[2m677\u001b[0m\u001b]8;;\u001b\\\n"
      ]
     },
     "metadata": {},
     "output_type": "display_data"
    },
    {
     "data": {
      "text/html": [
       "<pre style=\"white-space:pre;overflow-x:auto;line-height:normal;font-family:Menlo,'DejaVu Sans Mono',consolas,'Courier New',monospace\"><span style=\"color: #7fbfbf; text-decoration-color: #7fbfbf\">[06/13/25 09:37:33] </span><span style=\"color: #000080; text-decoration-color: #000080\">INFO    </span> Requesting page <span style=\"font-weight: bold\">(</span>first: <span style=\"color: #00ff00; text-decoration-color: #00ff00; font-style: italic\">True</span>, try: <span style=\"color: #008080; text-decoration-color: #008080; font-weight: bold\">1</span><span style=\"font-weight: bold\">)</span>:                                 <a href=\"file:///home/siamai/miniconda3/envs/py310/lib/python3.10/site-packages/arxiv/__init__.py\" target=\"_blank\"><span style=\"color: #7f7f7f; text-decoration-color: #7f7f7f\">__init__.py</span></a><span style=\"color: #7f7f7f; text-decoration-color: #7f7f7f\">:</span><a href=\"file:///home/siamai/miniconda3/envs/py310/lib/python3.10/site-packages/arxiv/__init__.py#680\" target=\"_blank\"><span style=\"color: #7f7f7f; text-decoration-color: #7f7f7f\">680</span></a>\n",
       "<span style=\"color: #7fbfbf; text-decoration-color: #7fbfbf\">                    </span>         <span style=\"color: #0000ff; text-decoration-color: #0000ff; text-decoration: underline\">https://export.arxiv.org/api/query?search_query=&amp;id_list=invalid-id-12</span> <span style=\"color: #7f7f7f; text-decoration-color: #7f7f7f\">               </span>\n",
       "<span style=\"color: #7fbfbf; text-decoration-color: #7fbfbf\">                    </span>         <span style=\"color: #0000ff; text-decoration-color: #0000ff; text-decoration: underline\">3&amp;sortBy=relevance&amp;sortOrder=descending&amp;start=0&amp;max_results=100</span>        <span style=\"color: #7f7f7f; text-decoration-color: #7f7f7f\">               </span>\n",
       "</pre>\n"
      ],
      "text/plain": [
       "\u001b[2;36m[06/13/25 09:37:33]\u001b[0m\u001b[2;36m \u001b[0m\u001b[34mINFO    \u001b[0m Requesting page \u001b[1m(\u001b[0mfirst: \u001b[3;92mTrue\u001b[0m, try: \u001b[1;36m1\u001b[0m\u001b[1m)\u001b[0m:                                 \u001b]8;id=111818;file:///home/siamai/miniconda3/envs/py310/lib/python3.10/site-packages/arxiv/__init__.py\u001b\\\u001b[2m__init__.py\u001b[0m\u001b]8;;\u001b\\\u001b[2m:\u001b[0m\u001b]8;id=464263;file:///home/siamai/miniconda3/envs/py310/lib/python3.10/site-packages/arxiv/__init__.py#680\u001b\\\u001b[2m680\u001b[0m\u001b]8;;\u001b\\\n",
       "\u001b[2;36m                    \u001b[0m         \u001b[4;94mhttps://export.arxiv.org/api/query?\u001b[0m\u001b[4;94msearch_query\u001b[0m\u001b[4;94m=&\u001b[0m\u001b[4;94mid_list\u001b[0m\u001b[4;94m=\u001b[0m\u001b[4;94minvalid\u001b[0m\u001b[4;94m-id-12\u001b[0m \u001b[2m               \u001b[0m\n",
       "\u001b[2;36m                    \u001b[0m         \u001b[4;94m3&\u001b[0m\u001b[4;94msortBy\u001b[0m\u001b[4;94m=\u001b[0m\u001b[4;94mrelevance\u001b[0m\u001b[4;94m&\u001b[0m\u001b[4;94msortOrder\u001b[0m\u001b[4;94m=\u001b[0m\u001b[4;94mdescending\u001b[0m\u001b[4;94m&\u001b[0m\u001b[4;94mstart\u001b[0m\u001b[4;94m=\u001b[0m\u001b[4;94m0\u001b[0m\u001b[4;94m&\u001b[0m\u001b[4;94mmax_results\u001b[0m\u001b[4;94m=\u001b[0m\u001b[4;94m100\u001b[0m        \u001b[2m               \u001b[0m\n"
      ]
     },
     "metadata": {},
     "output_type": "display_data"
    },
    {
     "data": {
      "text/html": [
       "<pre style=\"white-space:pre;overflow-x:auto;line-height:normal;font-family:Menlo,'DejaVu Sans Mono',consolas,'Courier New',monospace\"><span style=\"color: #7fbfbf; text-decoration-color: #7fbfbf\">[06/13/25 09:37:34] </span><span style=\"color: #000080; text-decoration-color: #000080\">INFO    </span> Sleeping: <span style=\"color: #008080; text-decoration-color: #008080; font-weight: bold\">2.999969</span> seconds                                             <a href=\"file:///home/siamai/miniconda3/envs/py310/lib/python3.10/site-packages/arxiv/__init__.py\" target=\"_blank\"><span style=\"color: #7f7f7f; text-decoration-color: #7f7f7f\">__init__.py</span></a><span style=\"color: #7f7f7f; text-decoration-color: #7f7f7f\">:</span><a href=\"file:///home/siamai/miniconda3/envs/py310/lib/python3.10/site-packages/arxiv/__init__.py#677\" target=\"_blank\"><span style=\"color: #7f7f7f; text-decoration-color: #7f7f7f\">677</span></a>\n",
       "</pre>\n"
      ],
      "text/plain": [
       "\u001b[2;36m[06/13/25 09:37:34]\u001b[0m\u001b[2;36m \u001b[0m\u001b[34mINFO    \u001b[0m Sleeping: \u001b[1;36m2.999969\u001b[0m seconds                                             \u001b]8;id=196312;file:///home/siamai/miniconda3/envs/py310/lib/python3.10/site-packages/arxiv/__init__.py\u001b\\\u001b[2m__init__.py\u001b[0m\u001b]8;;\u001b\\\u001b[2m:\u001b[0m\u001b]8;id=148280;file:///home/siamai/miniconda3/envs/py310/lib/python3.10/site-packages/arxiv/__init__.py#677\u001b\\\u001b[2m677\u001b[0m\u001b]8;;\u001b\\\n"
      ]
     },
     "metadata": {},
     "output_type": "display_data"
    },
    {
     "data": {
      "text/html": [
       "<pre style=\"white-space:pre;overflow-x:auto;line-height:normal;font-family:Menlo,'DejaVu Sans Mono',consolas,'Courier New',monospace\"><span style=\"color: #7fbfbf; text-decoration-color: #7fbfbf\">[06/13/25 09:37:37] </span><span style=\"color: #000080; text-decoration-color: #000080\">INFO    </span> Requesting page <span style=\"font-weight: bold\">(</span>first: <span style=\"color: #00ff00; text-decoration-color: #00ff00; font-style: italic\">True</span>, try: <span style=\"color: #008080; text-decoration-color: #008080; font-weight: bold\">2</span><span style=\"font-weight: bold\">)</span>:                                 <a href=\"file:///home/siamai/miniconda3/envs/py310/lib/python3.10/site-packages/arxiv/__init__.py\" target=\"_blank\"><span style=\"color: #7f7f7f; text-decoration-color: #7f7f7f\">__init__.py</span></a><span style=\"color: #7f7f7f; text-decoration-color: #7f7f7f\">:</span><a href=\"file:///home/siamai/miniconda3/envs/py310/lib/python3.10/site-packages/arxiv/__init__.py#680\" target=\"_blank\"><span style=\"color: #7f7f7f; text-decoration-color: #7f7f7f\">680</span></a>\n",
       "<span style=\"color: #7fbfbf; text-decoration-color: #7fbfbf\">                    </span>         <span style=\"color: #0000ff; text-decoration-color: #0000ff; text-decoration: underline\">https://export.arxiv.org/api/query?search_query=&amp;id_list=invalid-id-12</span> <span style=\"color: #7f7f7f; text-decoration-color: #7f7f7f\">               </span>\n",
       "<span style=\"color: #7fbfbf; text-decoration-color: #7fbfbf\">                    </span>         <span style=\"color: #0000ff; text-decoration-color: #0000ff; text-decoration: underline\">3&amp;sortBy=relevance&amp;sortOrder=descending&amp;start=0&amp;max_results=100</span>        <span style=\"color: #7f7f7f; text-decoration-color: #7f7f7f\">               </span>\n",
       "</pre>\n"
      ],
      "text/plain": [
       "\u001b[2;36m[06/13/25 09:37:37]\u001b[0m\u001b[2;36m \u001b[0m\u001b[34mINFO    \u001b[0m Requesting page \u001b[1m(\u001b[0mfirst: \u001b[3;92mTrue\u001b[0m, try: \u001b[1;36m2\u001b[0m\u001b[1m)\u001b[0m:                                 \u001b]8;id=1460;file:///home/siamai/miniconda3/envs/py310/lib/python3.10/site-packages/arxiv/__init__.py\u001b\\\u001b[2m__init__.py\u001b[0m\u001b]8;;\u001b\\\u001b[2m:\u001b[0m\u001b]8;id=426711;file:///home/siamai/miniconda3/envs/py310/lib/python3.10/site-packages/arxiv/__init__.py#680\u001b\\\u001b[2m680\u001b[0m\u001b]8;;\u001b\\\n",
       "\u001b[2;36m                    \u001b[0m         \u001b[4;94mhttps://export.arxiv.org/api/query?\u001b[0m\u001b[4;94msearch_query\u001b[0m\u001b[4;94m=&\u001b[0m\u001b[4;94mid_list\u001b[0m\u001b[4;94m=\u001b[0m\u001b[4;94minvalid\u001b[0m\u001b[4;94m-id-12\u001b[0m \u001b[2m               \u001b[0m\n",
       "\u001b[2;36m                    \u001b[0m         \u001b[4;94m3&\u001b[0m\u001b[4;94msortBy\u001b[0m\u001b[4;94m=\u001b[0m\u001b[4;94mrelevance\u001b[0m\u001b[4;94m&\u001b[0m\u001b[4;94msortOrder\u001b[0m\u001b[4;94m=\u001b[0m\u001b[4;94mdescending\u001b[0m\u001b[4;94m&\u001b[0m\u001b[4;94mstart\u001b[0m\u001b[4;94m=\u001b[0m\u001b[4;94m0\u001b[0m\u001b[4;94m&\u001b[0m\u001b[4;94mmax_results\u001b[0m\u001b[4;94m=\u001b[0m\u001b[4;94m100\u001b[0m        \u001b[2m               \u001b[0m\n"
      ]
     },
     "metadata": {},
     "output_type": "display_data"
    },
    {
     "data": {
      "text/html": [
       "<pre style=\"white-space:pre;overflow-x:auto;line-height:normal;font-family:Menlo,'DejaVu Sans Mono',consolas,'Courier New',monospace\"><span style=\"color: #7fbfbf; text-decoration-color: #7fbfbf\">[06/13/25 09:37:38] </span><span style=\"color: #000080; text-decoration-color: #000080\">INFO    </span> Sleeping: <span style=\"color: #008080; text-decoration-color: #008080; font-weight: bold\">2.999961</span> seconds                                             <a href=\"file:///home/siamai/miniconda3/envs/py310/lib/python3.10/site-packages/arxiv/__init__.py\" target=\"_blank\"><span style=\"color: #7f7f7f; text-decoration-color: #7f7f7f\">__init__.py</span></a><span style=\"color: #7f7f7f; text-decoration-color: #7f7f7f\">:</span><a href=\"file:///home/siamai/miniconda3/envs/py310/lib/python3.10/site-packages/arxiv/__init__.py#677\" target=\"_blank\"><span style=\"color: #7f7f7f; text-decoration-color: #7f7f7f\">677</span></a>\n",
       "</pre>\n"
      ],
      "text/plain": [
       "\u001b[2;36m[06/13/25 09:37:38]\u001b[0m\u001b[2;36m \u001b[0m\u001b[34mINFO    \u001b[0m Sleeping: \u001b[1;36m2.999961\u001b[0m seconds                                             \u001b]8;id=581352;file:///home/siamai/miniconda3/envs/py310/lib/python3.10/site-packages/arxiv/__init__.py\u001b\\\u001b[2m__init__.py\u001b[0m\u001b]8;;\u001b\\\u001b[2m:\u001b[0m\u001b]8;id=74223;file:///home/siamai/miniconda3/envs/py310/lib/python3.10/site-packages/arxiv/__init__.py#677\u001b\\\u001b[2m677\u001b[0m\u001b]8;;\u001b\\\n"
      ]
     },
     "metadata": {},
     "output_type": "display_data"
    },
    {
     "data": {
      "text/html": [
       "<pre style=\"white-space:pre;overflow-x:auto;line-height:normal;font-family:Menlo,'DejaVu Sans Mono',consolas,'Courier New',monospace\"><span style=\"color: #7fbfbf; text-decoration-color: #7fbfbf\">[06/13/25 09:37:41] </span><span style=\"color: #000080; text-decoration-color: #000080\">INFO    </span> Requesting page <span style=\"font-weight: bold\">(</span>first: <span style=\"color: #00ff00; text-decoration-color: #00ff00; font-style: italic\">True</span>, try: <span style=\"color: #008080; text-decoration-color: #008080; font-weight: bold\">3</span><span style=\"font-weight: bold\">)</span>:                                 <a href=\"file:///home/siamai/miniconda3/envs/py310/lib/python3.10/site-packages/arxiv/__init__.py\" target=\"_blank\"><span style=\"color: #7f7f7f; text-decoration-color: #7f7f7f\">__init__.py</span></a><span style=\"color: #7f7f7f; text-decoration-color: #7f7f7f\">:</span><a href=\"file:///home/siamai/miniconda3/envs/py310/lib/python3.10/site-packages/arxiv/__init__.py#680\" target=\"_blank\"><span style=\"color: #7f7f7f; text-decoration-color: #7f7f7f\">680</span></a>\n",
       "<span style=\"color: #7fbfbf; text-decoration-color: #7fbfbf\">                    </span>         <span style=\"color: #0000ff; text-decoration-color: #0000ff; text-decoration: underline\">https://export.arxiv.org/api/query?search_query=&amp;id_list=invalid-id-12</span> <span style=\"color: #7f7f7f; text-decoration-color: #7f7f7f\">               </span>\n",
       "<span style=\"color: #7fbfbf; text-decoration-color: #7fbfbf\">                    </span>         <span style=\"color: #0000ff; text-decoration-color: #0000ff; text-decoration: underline\">3&amp;sortBy=relevance&amp;sortOrder=descending&amp;start=0&amp;max_results=100</span>        <span style=\"color: #7f7f7f; text-decoration-color: #7f7f7f\">               </span>\n",
       "</pre>\n"
      ],
      "text/plain": [
       "\u001b[2;36m[06/13/25 09:37:41]\u001b[0m\u001b[2;36m \u001b[0m\u001b[34mINFO    \u001b[0m Requesting page \u001b[1m(\u001b[0mfirst: \u001b[3;92mTrue\u001b[0m, try: \u001b[1;36m3\u001b[0m\u001b[1m)\u001b[0m:                                 \u001b]8;id=994969;file:///home/siamai/miniconda3/envs/py310/lib/python3.10/site-packages/arxiv/__init__.py\u001b\\\u001b[2m__init__.py\u001b[0m\u001b]8;;\u001b\\\u001b[2m:\u001b[0m\u001b]8;id=839105;file:///home/siamai/miniconda3/envs/py310/lib/python3.10/site-packages/arxiv/__init__.py#680\u001b\\\u001b[2m680\u001b[0m\u001b]8;;\u001b\\\n",
       "\u001b[2;36m                    \u001b[0m         \u001b[4;94mhttps://export.arxiv.org/api/query?\u001b[0m\u001b[4;94msearch_query\u001b[0m\u001b[4;94m=&\u001b[0m\u001b[4;94mid_list\u001b[0m\u001b[4;94m=\u001b[0m\u001b[4;94minvalid\u001b[0m\u001b[4;94m-id-12\u001b[0m \u001b[2m               \u001b[0m\n",
       "\u001b[2;36m                    \u001b[0m         \u001b[4;94m3&\u001b[0m\u001b[4;94msortBy\u001b[0m\u001b[4;94m=\u001b[0m\u001b[4;94mrelevance\u001b[0m\u001b[4;94m&\u001b[0m\u001b[4;94msortOrder\u001b[0m\u001b[4;94m=\u001b[0m\u001b[4;94mdescending\u001b[0m\u001b[4;94m&\u001b[0m\u001b[4;94mstart\u001b[0m\u001b[4;94m=\u001b[0m\u001b[4;94m0\u001b[0m\u001b[4;94m&\u001b[0m\u001b[4;94mmax_results\u001b[0m\u001b[4;94m=\u001b[0m\u001b[4;94m100\u001b[0m        \u001b[2m               \u001b[0m\n"
      ]
     },
     "metadata": {},
     "output_type": "display_data"
    },
    {
     "name": "stdout",
     "output_type": "stream",
     "text": [
      "Invalid ID result: Download error: Page request resulted in HTTP 400 (https://export.arxiv.org/api/query?search_query=&id_list=invalid-id-123&sortBy=relevance&sortOrder=descending&start=0&max_results=100)\n"
     ]
    }
   ],
   "source": [
    "# Test error handling\n",
    "print(\"\\n=== Method 3: Test error handling ===\")\n",
    "invalid_result = download_paper(\"invalid-id-123\")\n",
    "print(f\"Invalid ID result: {invalid_result}\")"
   ]
  },
  {
   "cell_type": "markdown",
   "id": "20e8a699",
   "metadata": {},
   "source": [
    "## Tool 3: List Papers"
   ]
  },
  {
   "cell_type": "code",
   "execution_count": 9,
   "id": "6370b991",
   "metadata": {},
   "outputs": [
    {
     "data": {
      "text/html": [
       "<pre style=\"white-space:pre;overflow-x:auto;line-height:normal;font-family:Menlo,'DejaVu Sans Mono',consolas,'Courier New',monospace\"><span style=\"color: #7fbfbf; text-decoration-color: #7fbfbf\">[06/13/25 09:38:17] </span><span style=\"color: #808000; text-decoration-color: #808000\">WARNING </span> Resource already exists: papers:<span style=\"color: #800080; text-decoration-color: #800080\">//</span><span style=\"color: #ff00ff; text-decoration-color: #ff00ff\">downloaded</span>                    <a href=\"file:///home/siamai/miniconda3/envs/py310/lib/python3.10/site-packages/mcp/server/fastmcp/resources/resource_manager.py\" target=\"_blank\"><span style=\"color: #7f7f7f; text-decoration-color: #7f7f7f\">resource_manager.py</span></a><span style=\"color: #7f7f7f; text-decoration-color: #7f7f7f\">:</span><a href=\"file:///home/siamai/miniconda3/envs/py310/lib/python3.10/site-packages/mcp/server/fastmcp/resources/resource_manager.py#44\" target=\"_blank\"><span style=\"color: #7f7f7f; text-decoration-color: #7f7f7f\">44</span></a>\n",
       "</pre>\n"
      ],
      "text/plain": [
       "\u001b[2;36m[06/13/25 09:38:17]\u001b[0m\u001b[2;36m \u001b[0m\u001b[33mWARNING \u001b[0m Resource already exists: papers:\u001b[35m/\u001b[0m\u001b[35m/\u001b[0m\u001b[95mdownloaded\u001b[0m                    \u001b]8;id=700946;file:///home/siamai/miniconda3/envs/py310/lib/python3.10/site-packages/mcp/server/fastmcp/resources/resource_manager.py\u001b\\\u001b[2mresource_manager.py\u001b[0m\u001b]8;;\u001b\\\u001b[2m:\u001b[0m\u001b]8;id=130103;file:///home/siamai/miniconda3/envs/py310/lib/python3.10/site-packages/mcp/server/fastmcp/resources/resource_manager.py#44\u001b\\\u001b[2m44\u001b[0m\u001b]8;;\u001b\\\n"
      ]
     },
     "metadata": {},
     "output_type": "display_data"
    },
    {
     "name": "stdout",
     "output_type": "stream",
     "text": [
      "Downloaded papers:\n",
      "• 1706.03762\n",
      "✓ Added papers resource\n"
     ]
    }
   ],
   "source": [
    "@mcp.resource(\"papers://downloaded\")\n",
    "def list_downloaded_papers() -> str:\n",
    "    \"\"\"List all downloaded papers\"\"\"\n",
    "    papers = list(STORAGE_PATH.glob(\"*.pdf\"))\n",
    "    \n",
    "    if not papers:\n",
    "        return \"No papers downloaded yet\"\n",
    "    \n",
    "    return \"Downloaded papers:\\n\" + \"\\n\".join([\n",
    "        f\"• {p.stem}\" for p in papers\n",
    "    ])\n",
    "print(list_downloaded_papers())\n",
    "print(\"✓ Added papers resource\")"
   ]
  },
  {
   "cell_type": "code",
   "execution_count": 10,
   "id": "a6041166",
   "metadata": {},
   "outputs": [],
   "source": [
    "def test_arxiv_server():\n",
    "    print(\"\\n=== Testing ArXiv Server ===\")\n",
    "    \n",
    "    # Test search\n",
    "    result = search_papers(\"reasoning model for agentic system\", 5)\n",
    "    print(f\"Search result: {result[:100]}...\")\n",
    "    \n",
    "    # Test resource\n",
    "    papers = list_downloaded_papers()\n",
    "    print(f\"Downloaded papers: {papers}\")"
   ]
  },
  {
   "cell_type": "code",
   "execution_count": 11,
   "id": "16adea8b",
   "metadata": {},
   "outputs": [
    {
     "name": "stdout",
     "output_type": "stream",
     "text": [
      "✓ ArXiv server ready\n",
      "Run: test_arxiv_server()\n",
      "\n",
      "=== Testing ArXiv Server ===\n"
     ]
    },
    {
     "data": {
      "text/html": [
       "<pre style=\"white-space:pre;overflow-x:auto;line-height:normal;font-family:Menlo,'DejaVu Sans Mono',consolas,'Courier New',monospace\"><span style=\"color: #7fbfbf; text-decoration-color: #7fbfbf\">[06/13/25 09:38:32] </span><span style=\"color: #000080; text-decoration-color: #000080\">INFO    </span> Requesting page <span style=\"font-weight: bold\">(</span>first: <span style=\"color: #00ff00; text-decoration-color: #00ff00; font-style: italic\">True</span>, try: <span style=\"color: #008080; text-decoration-color: #008080; font-weight: bold\">0</span><span style=\"font-weight: bold\">)</span>:                                 <a href=\"file:///home/siamai/miniconda3/envs/py310/lib/python3.10/site-packages/arxiv/__init__.py\" target=\"_blank\"><span style=\"color: #7f7f7f; text-decoration-color: #7f7f7f\">__init__.py</span></a><span style=\"color: #7f7f7f; text-decoration-color: #7f7f7f\">:</span><a href=\"file:///home/siamai/miniconda3/envs/py310/lib/python3.10/site-packages/arxiv/__init__.py#680\" target=\"_blank\"><span style=\"color: #7f7f7f; text-decoration-color: #7f7f7f\">680</span></a>\n",
       "<span style=\"color: #7fbfbf; text-decoration-color: #7fbfbf\">                    </span>         <span style=\"color: #0000ff; text-decoration-color: #0000ff; text-decoration: underline\">https://export.arxiv.org/api/query?search_query=reasoning+model+for+ag</span> <span style=\"color: #7f7f7f; text-decoration-color: #7f7f7f\">               </span>\n",
       "<span style=\"color: #7fbfbf; text-decoration-color: #7fbfbf\">                    </span>         <span style=\"color: #0000ff; text-decoration-color: #0000ff; text-decoration: underline\">entic+system&amp;id_list=&amp;sortBy=relevance&amp;sortOrder=descending&amp;start=0&amp;ma</span> <span style=\"color: #7f7f7f; text-decoration-color: #7f7f7f\">               </span>\n",
       "<span style=\"color: #7fbfbf; text-decoration-color: #7fbfbf\">                    </span>         <span style=\"color: #0000ff; text-decoration-color: #0000ff; text-decoration: underline\">x_results=100</span>                                                          <span style=\"color: #7f7f7f; text-decoration-color: #7f7f7f\">               </span>\n",
       "</pre>\n"
      ],
      "text/plain": [
       "\u001b[2;36m[06/13/25 09:38:32]\u001b[0m\u001b[2;36m \u001b[0m\u001b[34mINFO    \u001b[0m Requesting page \u001b[1m(\u001b[0mfirst: \u001b[3;92mTrue\u001b[0m, try: \u001b[1;36m0\u001b[0m\u001b[1m)\u001b[0m:                                 \u001b]8;id=214903;file:///home/siamai/miniconda3/envs/py310/lib/python3.10/site-packages/arxiv/__init__.py\u001b\\\u001b[2m__init__.py\u001b[0m\u001b]8;;\u001b\\\u001b[2m:\u001b[0m\u001b]8;id=292586;file:///home/siamai/miniconda3/envs/py310/lib/python3.10/site-packages/arxiv/__init__.py#680\u001b\\\u001b[2m680\u001b[0m\u001b]8;;\u001b\\\n",
       "\u001b[2;36m                    \u001b[0m         \u001b[4;94mhttps://export.arxiv.org/api/query?\u001b[0m\u001b[4;94msearch_query\u001b[0m\u001b[4;94m=\u001b[0m\u001b[4;94mreasoning\u001b[0m\u001b[4;94m+model+for+ag\u001b[0m \u001b[2m               \u001b[0m\n",
       "\u001b[2;36m                    \u001b[0m         \u001b[4;94mentic+system&\u001b[0m\u001b[4;94mid_list\u001b[0m\u001b[4;94m=&\u001b[0m\u001b[4;94msortBy\u001b[0m\u001b[4;94m=\u001b[0m\u001b[4;94mrelevance\u001b[0m\u001b[4;94m&\u001b[0m\u001b[4;94msortOrder\u001b[0m\u001b[4;94m=\u001b[0m\u001b[4;94mdescending\u001b[0m\u001b[4;94m&\u001b[0m\u001b[4;94mstart\u001b[0m\u001b[4;94m=\u001b[0m\u001b[4;94m0\u001b[0m\u001b[4;94m&\u001b[0m\u001b[4;94mma\u001b[0m \u001b[2m               \u001b[0m\n",
       "\u001b[2;36m                    \u001b[0m         \u001b[4;94mx_results\u001b[0m\u001b[4;94m=\u001b[0m\u001b[4;94m100\u001b[0m                                                          \u001b[2m               \u001b[0m\n"
      ]
     },
     "metadata": {},
     "output_type": "display_data"
    },
    {
     "data": {
      "text/html": [
       "<pre style=\"white-space:pre;overflow-x:auto;line-height:normal;font-family:Menlo,'DejaVu Sans Mono',consolas,'Courier New',monospace\"><span style=\"color: #7fbfbf; text-decoration-color: #7fbfbf\">[06/13/25 09:38:38] </span><span style=\"color: #000080; text-decoration-color: #000080\">INFO    </span> Got first page: <span style=\"color: #008080; text-decoration-color: #008080; font-weight: bold\">100</span> of <span style=\"color: #008080; text-decoration-color: #008080; font-weight: bold\">2442103</span> total results                           <a href=\"file:///home/siamai/miniconda3/envs/py310/lib/python3.10/site-packages/arxiv/__init__.py\" target=\"_blank\"><span style=\"color: #7f7f7f; text-decoration-color: #7f7f7f\">__init__.py</span></a><span style=\"color: #7f7f7f; text-decoration-color: #7f7f7f\">:</span><a href=\"file:///home/siamai/miniconda3/envs/py310/lib/python3.10/site-packages/arxiv/__init__.py#606\" target=\"_blank\"><span style=\"color: #7f7f7f; text-decoration-color: #7f7f7f\">606</span></a>\n",
       "</pre>\n"
      ],
      "text/plain": [
       "\u001b[2;36m[06/13/25 09:38:38]\u001b[0m\u001b[2;36m \u001b[0m\u001b[34mINFO    \u001b[0m Got first page: \u001b[1;36m100\u001b[0m of \u001b[1;36m2442103\u001b[0m total results                           \u001b]8;id=881677;file:///home/siamai/miniconda3/envs/py310/lib/python3.10/site-packages/arxiv/__init__.py\u001b\\\u001b[2m__init__.py\u001b[0m\u001b]8;;\u001b\\\u001b[2m:\u001b[0m\u001b]8;id=833100;file:///home/siamai/miniconda3/envs/py310/lib/python3.10/site-packages/arxiv/__init__.py#606\u001b\\\u001b[2m606\u001b[0m\u001b]8;;\u001b\\\n"
      ]
     },
     "metadata": {},
     "output_type": "display_data"
    },
    {
     "name": "stdout",
     "output_type": "stream",
     "text": [
      "Search result: Found 5 papers:\n",
      "\n",
      "1. **Agentic Reasoning: Reasoning LLMs with Tools for the Deep Research**\n",
      "   ID: 25...\n",
      "Downloaded papers: Downloaded papers:\n",
      "• 1706.03762\n",
      "None\n"
     ]
    }
   ],
   "source": [
    "print(\"✓ ArXiv server ready\")\n",
    "print(\"Run: test_arxiv_server()\")\n",
    "print(test_arxiv_server())"
   ]
  },
  {
   "cell_type": "code",
   "execution_count": null,
   "id": "24d09fa7",
   "metadata": {},
   "outputs": [],
   "source": []
  }
 ],
 "metadata": {
  "kernelspec": {
   "display_name": "py310",
   "language": "python",
   "name": "python3"
  },
  "language_info": {
   "codemirror_mode": {
    "name": "ipython",
    "version": 3
   },
   "file_extension": ".py",
   "mimetype": "text/x-python",
   "name": "python",
   "nbconvert_exporter": "python",
   "pygments_lexer": "ipython3",
   "version": "3.10.12"
  }
 },
 "nbformat": 4,
 "nbformat_minor": 5
}
