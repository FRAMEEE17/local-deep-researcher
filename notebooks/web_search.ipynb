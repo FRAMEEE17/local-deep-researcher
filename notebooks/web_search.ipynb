{
 "cells": [
  {
   "cell_type": "code",
   "execution_count": 1,
   "id": "cc5ec14c",
   "metadata": {},
   "outputs": [],
   "source": [
    "from mcp.server.fastmcp import FastMCP\n",
    "from tavily import TavilyClient\n",
    "from langchain_community.utilities import SearxSearchWrapper\n",
    "import os\n",
    "import httpx\n",
    "from pathlib import Path"
   ]
  },
  {
   "cell_type": "code",
   "execution_count": 2,
   "id": "f1cf9a26",
   "metadata": {},
   "outputs": [
    {
     "name": "stdout",
     "output_type": "stream",
     "text": [
      "✓ Created Web Search MCP server\n"
     ]
    }
   ],
   "source": [
    "mcp = FastMCP(\"search api server\")\n",
    "print(\"✓ Created Web Search MCP server\")"
   ]
  },
  {
   "cell_type": "markdown",
   "id": "1548ce69",
   "metadata": {},
   "source": [
    "### Tool 1: Tavily search"
   ]
  },
  {
   "cell_type": "code",
   "execution_count": 3,
   "id": "75a92edb",
   "metadata": {},
   "outputs": [],
   "source": [
    "@mcp.tool()\n",
    "def search_tavily(query: str, max_results: int = 5) -> str:\n",
    "    \"\"\"\n",
    "    Search the web using Tavily API.\n",
    "    \"\"\"\n",
    "    api_key = os.getenv(\"TAVILY_API_KEY\")\n",
    "    print(api_key)\n",
    "    if not api_key:\n",
    "        raise ValueError(\"TAVILY_API_KEY environment variable is not set.\")\n",
    "    try:\n",
    "        client = TavilyClient(api_key=api_key)\n",
    "        results = client.search(query=query, max_results=max_results)\n",
    "        formatted_res = []\n",
    "        for i, res in enumerate(results.get(\"results\",[]), 1):\n",
    "            formatted_res.append(\n",
    "                f\"{i}. {res['title']}\\n\"\n",
    "                f\"   {res['url']}\\n\"\n",
    "                f\"   {res['content'][:200]}...\\n\"\n",
    "            )\n",
    "        return f\"Tavily search results for '{query}':\\n\\n\" + \"\\n\".join(formatted_res)\n",
    "    except Exception as e:\n",
    "        return f\"Tavily search error: {str(e)}\"\n"
   ]
  },
  {
   "cell_type": "markdown",
   "id": "4ac45e35",
   "metadata": {},
   "source": [
    "### Tool 2: SearXNG search"
   ]
  },
  {
   "cell_type": "code",
   "execution_count": 4,
   "id": "047cef7c",
   "metadata": {},
   "outputs": [],
   "source": [
    "@mcp.tool()\n",
    "def search_searxng(query: str, max_results: int = 5) -> str:\n",
    "    searxng_url = os.getenv(\"SEARXNG_URL\")\n",
    "    print(searxng_url)\n",
    "    if not searxng_url:\n",
    "        raise ValueError(\"SEARXNG_URL environment variable is not set.\")\n",
    "    try:\n",
    "        searx = SearxSearchWrapper(searx_host=searxng_url)\n",
    "        results = searx.results(query, num_results=max_results)\n",
    "        \n",
    "        formatted_results = []\n",
    "        for i, result in enumerate(results, 1):\n",
    "            formatted_results.append(\n",
    "                f\"{i}. {result.get('title', 'No title')}\\n\"\n",
    "                f\"   {result.get('link', 'No URL')}\\n\"\n",
    "                f\"   {result.get('snippet', 'No snippet')[:150]}...\\n\"\n",
    "            )\n",
    "        \n",
    "        return f\"SearXNG search results for '{query}':\\n\\n\" + \"\\n\".join(formatted_results)\n",
    "    except Exception as e:\n",
    "        return f\"SearXNG search error: {str(e)}\""
   ]
  },
  {
   "cell_type": "code",
   "execution_count": 5,
   "id": "3db0155c",
   "metadata": {},
   "outputs": [
    {
     "name": "stdout",
     "output_type": "stream",
     "text": [
      "✓ Added search config resource\n"
     ]
    }
   ],
   "source": [
    "# Resource: Search Configuration\n",
    "@mcp.resource(\"config://search\")\n",
    "def get_search_config() -> str:\n",
    "    \"\"\"Get current search configuration\"\"\"\n",
    "    config = {\n",
    "        \"providers\": [\"Tavily\", \"SearXNG\"],\n",
    "        \"tavily_enabled\": bool(os.getenv(\"TAVILY_API_KEY\")),\n",
    "        \"searxng_url\": os.getenv(\"SEARXNG_URL\"),\n",
    "        \"default_max_results\": 5\n",
    "    }\n",
    "    \n",
    "    return f\"Search Configuration:\\n\" + \"\\n\".join([\n",
    "        f\"• {key}: {value}\" for key, value in config.items()\n",
    "    ])\n",
    "\n",
    "print(\"✓ Added search config resource\")"
   ]
  },
  {
   "cell_type": "code",
   "execution_count": 6,
   "id": "e5bc53e3",
   "metadata": {},
   "outputs": [
    {
     "data": {
      "text/plain": [
       "True"
      ]
     },
     "execution_count": 6,
     "metadata": {},
     "output_type": "execute_result"
    }
   ],
   "source": [
    "from dotenv import load_dotenv\n",
    "load_dotenv(\"/home/siamai/deepsad/local-deep-researcher/.env\")"
   ]
  },
  {
   "cell_type": "code",
   "execution_count": 7,
   "id": "eb35b4a4",
   "metadata": {},
   "outputs": [
    {
     "name": "stdout",
     "output_type": "stream",
     "text": [
      "Current env vars:\n",
      "TAVILY_API_KEY: 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   # Get your key at https://tavily.com\n",
      "SEARXNG_URL: http://localhost:8080\n",
      "Search Configuration:\n",
      "• providers: ['Tavily', 'SearXNG']\n",
      "• tavily_enabled: True\n",
      "• searxng_url: http://localhost:8080\n",
      "• default_max_results: 5\n"
     ]
    }
   ],
   "source": [
    "# Test only the working parts\n",
    "import os\n",
    "print(\"Current env vars:\")\n",
    "print(\"TAVILY_API_KEY:\", os.getenv(\"TAVILY_API_KEY\"))\n",
    "print(\"SEARXNG_URL:\", os.getenv(\"SEARXNG_URL\"))\n",
    "\n",
    "# Test config only\n",
    "config = get_search_config()\n",
    "print(config)"
   ]
  },
  {
   "cell_type": "code",
   "execution_count": 14,
   "id": "94c0b79d",
   "metadata": {},
   "outputs": [
    {
     "name": "stdout",
     "output_type": "stream",
     "text": [
      "✓ Web search server ready\n",
      "\n",
      "=== Testing Web Search Server ===\n",
      "http://localhost:8080\n",
      "SearXNG result: SearXNG search results for 'the illusion of reasoning 2025':\n",
      "\n",
      "1. The Illusion of Thinking: Understanding the Strengths and Limitations of Reasoning Models via the Lens of Problem Complexity - Apple Machine Learning Research\n",
      "   https://machinelearning.apple.com/research/illusion-of-thinking\n",
      "   However, the extensive reasoning traces lead to inefficiencies and an increased time-to-first-token (TTFT). We propose a novel training paradigm that ...\n",
      "\n",
      "2. The illusion of \"The Illusion of Thinking\" | sean goedecke\n",
      "   https://www.seangoedecke.com/illusion-of-thinking/\n",
      "   The illusion of \"The Illusion of Thinking\" Very recently (early June 2025), Apple released a paper called The Illusion of Thinking: Understanding the ...\n",
      "\n",
      "3. Intelligence Illusion: What Apple’s AI Study Reveals About Reasoning\n",
      "   https://www.forbes.com/sites/corneliawalther/2025/06/09/intelligence-illusion-what-apples-ai-study-reveals-about-reasoning/\n",
      "   Apple's new study, titled \"The Illusion of Thinking,\" has sent shockwaves through the AI community by demonstrating that even the most sophisticated r...\n",
      "\n",
      "4. 'The illusion of thinking': Apple research finds AI models collapse and give up with hard puzzles | Mashable\n",
      "   https://mashable.com/article/apple-research-ai-reasoning-models-collapse-logic-puzzles\n",
      "   4 days ago - Apple has bad news for AGI optimists. An Apple research paper reports major limitations with AI reasoning models' much-hyped \"thinking\" a...\n",
      "\n",
      "5. The Illusion of Thinking: Apple Finds Reasoning Flaws in AI models\n",
      "   https://www.analyticsvidhya.com/blog/2025/06/the-illusion-of-thinking/\n",
      "   A rather brutal truth has emerged in the AI industry, redefining what we consider the true capabilities of AI. A research paper titled \"The Illusion o...\n",
      "...\n",
      "Config: Search Configuration:\n",
      "• providers: ['Tavily', 'SearXNG']\n",
      "• tavily_enabled: True\n",
      "• searxng_url: http://localhost:8080\n",
      "• default_max_results: 5\n"
     ]
    }
   ],
   "source": [
    "def test_web_search():\n",
    "    \"\"\"Test web search functionality\"\"\"\n",
    "    print(\"\\n=== Testing Web Search Server ===\")\n",
    "    \n",
    "    # # Test Tavily search\n",
    "    # result = search_tavily(\"the illusion of reasoning 2025\", 2)\n",
    "    # print(f\"Tavily result: {result[:200]}...\")\n",
    "    \n",
    "    # Test SearXNG search\n",
    "    result2 = search_searxng(\"the illusion of reasoning 2025\", 5)\n",
    "    print(f\"SearXNG result: {result2[:2000]}...\")\n",
    "    \n",
    "    # Test config\n",
    "    config = get_search_config()\n",
    "    print(f\"Config: {config}\")\n",
    "\n",
    "print(\"✓ Web search server ready\")\n",
    "\n",
    "# Run test immediately\n",
    "test_web_search()"
   ]
  },
  {
   "cell_type": "code",
   "execution_count": 12,
   "id": "67ae7100",
   "metadata": {},
   "outputs": [
    {
     "name": "stdout",
     "output_type": "stream",
     "text": [
      "Status: 401\n",
      "Response: {\"detail\":{\"error\":\"Unauthorized: missing or invalid API key.\"}}\n"
     ]
    }
   ],
   "source": [
    "import requests\n",
    "import os\n",
    "\n",
    "api_key = os.getenv(\"TAVILY_API_KEY\")\n",
    "url = \"https://api.tavily.com/search\"\n",
    "\n",
    "headers = {\n",
    "    \"Content-Type\": \"application/json\"\n",
    "}\n",
    "\n",
    "data = {\n",
    "    \"api_key\": api_key,\n",
    "    \"query\": \"test\",\n",
    "    \"max_results\": 1\n",
    "}\n",
    "\n",
    "response = requests.post(url, json=data, headers=headers)\n",
    "print(f\"Status: {response.status_code}\")\n",
    "print(f\"Response: {response.text}\")"
   ]
  },
  {
   "cell_type": "code",
   "execution_count": null,
   "id": "6248d94e",
   "metadata": {},
   "outputs": [],
   "source": []
  }
 ],
 "metadata": {
  "kernelspec": {
   "display_name": "py310",
   "language": "python",
   "name": "python3"
  },
  "language_info": {
   "codemirror_mode": {
    "name": "ipython",
    "version": 3
   },
   "file_extension": ".py",
   "mimetype": "text/x-python",
   "name": "python",
   "nbconvert_exporter": "python",
   "pygments_lexer": "ipython3",
   "version": "3.10.12"
  }
 },
 "nbformat": 4,
 "nbformat_minor": 5
}
